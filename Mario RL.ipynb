{
 "cells": [
  {
   "cell_type": "code",
   "execution_count": 2,
   "id": "03176aa8-3310-4de7-bb32-eebb51a47e42",
   "metadata": {
    "scrolled": true
   },
   "outputs": [
    {
     "name": "stdout",
     "output_type": "stream",
     "text": [
      "Requirement already satisfied: gym_super_mario_bros==7.3.0 in c:\\users\\swast\\onedrive\\desktop\\coding\\mario artificial intelligence\\mario-ai\\venv\\lib\\site-packages (7.3.0)\n",
      "Requirement already satisfied: nes_py in c:\\users\\swast\\onedrive\\desktop\\coding\\mario artificial intelligence\\mario-ai\\venv\\lib\\site-packages (8.2.1)\n",
      "Requirement already satisfied: gym>=0.17.2 in c:\\users\\swast\\onedrive\\desktop\\coding\\mario artificial intelligence\\mario-ai\\venv\\lib\\site-packages (from nes_py) (0.26.2)\n",
      "Requirement already satisfied: numpy>=1.18.5 in c:\\users\\swast\\onedrive\\desktop\\coding\\mario artificial intelligence\\mario-ai\\venv\\lib\\site-packages (from nes_py) (1.24.4)\n",
      "Requirement already satisfied: pyglet<=1.5.21,>=1.4.0 in c:\\users\\swast\\onedrive\\desktop\\coding\\mario artificial intelligence\\mario-ai\\venv\\lib\\site-packages (from nes_py) (1.5.21)\n",
      "Requirement already satisfied: tqdm>=4.48.2 in c:\\users\\swast\\onedrive\\desktop\\coding\\mario artificial intelligence\\mario-ai\\venv\\lib\\site-packages (from nes_py) (4.66.4)\n",
      "Requirement already satisfied: cloudpickle>=1.2.0 in c:\\users\\swast\\onedrive\\desktop\\coding\\mario artificial intelligence\\mario-ai\\venv\\lib\\site-packages (from gym>=0.17.2->nes_py) (3.0.0)\n",
      "Requirement already satisfied: gym-notices>=0.0.4 in c:\\users\\swast\\onedrive\\desktop\\coding\\mario artificial intelligence\\mario-ai\\venv\\lib\\site-packages (from gym>=0.17.2->nes_py) (0.0.8)\n",
      "Requirement already satisfied: importlib-metadata>=4.8.0 in c:\\users\\swast\\onedrive\\desktop\\coding\\mario artificial intelligence\\mario-ai\\venv\\lib\\site-packages (from gym>=0.17.2->nes_py) (7.1.0)\n",
      "Requirement already satisfied: colorama in c:\\users\\swast\\onedrive\\desktop\\coding\\mario artificial intelligence\\mario-ai\\venv\\lib\\site-packages (from tqdm>=4.48.2->nes_py) (0.4.6)\n",
      "Requirement already satisfied: zipp>=0.5 in c:\\users\\swast\\onedrive\\desktop\\coding\\mario artificial intelligence\\mario-ai\\venv\\lib\\site-packages (from importlib-metadata>=4.8.0->gym>=0.17.2->nes_py) (3.18.2)\n"
     ]
    },
    {
     "name": "stderr",
     "output_type": "stream",
     "text": [
      "\n",
      "[notice] A new release of pip is available: 23.3.1 -> 24.0\n",
      "[notice] To update, run: python.exe -m pip install --upgrade pip\n"
     ]
    }
   ],
   "source": [
    "!pip install gym_super_mario_bros==7.3.0 nes_py"
   ]
  },
  {
   "cell_type": "code",
   "execution_count": 3,
   "id": "e0308925-d055-4005-8d57-356f81a31bbd",
   "metadata": {},
   "outputs": [],
   "source": [
    "import gym_super_mario_bros\n",
    "from nes_py.wrappers import JoypadSpace\n",
    "from gym_super_mario_bros.actions import SIMPLE_MOVEMENT"
   ]
  },
  {
   "cell_type": "code",
   "execution_count": 4,
   "id": "a16617de-5d38-4ea7-bd20-69d76d2cc5be",
   "metadata": {},
   "outputs": [
    {
     "name": "stderr",
     "output_type": "stream",
     "text": [
      "C:\\Users\\swast\\OneDrive\\Desktop\\Coding\\Mario Artificial Intelligence\\mario-ai\\venv\\lib\\site-packages\\gym\\envs\\registration.py:555: UserWarning: \u001b[33mWARN: The environment SuperMarioBros-v0 is out of date. You should consider upgrading to version `v3`.\u001b[0m\n",
      "  logger.warn(\n"
     ]
    }
   ],
   "source": [
    "env = gym_super_mario_bros.make('SuperMarioBros-v0')\n",
    "env = JoypadSpace(env, SIMPLE_MOVEMENT)"
   ]
  },
  {
   "cell_type": "code",
   "execution_count": 5,
   "id": "dcfc5c9a-3322-4a24-8f52-9738f10c4c6a",
   "metadata": {},
   "outputs": [
    {
     "data": {
      "text/plain": [
       "[['NOOP'],\n",
       " ['right'],\n",
       " ['right', 'A'],\n",
       " ['right', 'B'],\n",
       " ['right', 'A', 'B'],\n",
       " ['A'],\n",
       " ['left']]"
      ]
     },
     "execution_count": 5,
     "metadata": {},
     "output_type": "execute_result"
    }
   ],
   "source": [
    "SIMPLE_MOVEMENT"
   ]
  },
  {
   "cell_type": "code",
   "execution_count": 6,
   "id": "989ee4ca-d680-451e-92a5-0636072d4455",
   "metadata": {},
   "outputs": [
    {
     "data": {
      "text/plain": [
       "Discrete(7)"
      ]
     },
     "execution_count": 6,
     "metadata": {},
     "output_type": "execute_result"
    }
   ],
   "source": [
    "env.action_space"
   ]
  },
  {
   "cell_type": "code",
   "execution_count": 7,
   "id": "139bea22-e9c5-4f88-87fd-ea1ae5f888e8",
   "metadata": {},
   "outputs": [
    {
     "data": {
      "text/plain": [
       "0"
      ]
     },
     "execution_count": 7,
     "metadata": {},
     "output_type": "execute_result"
    }
   ],
   "source": [
    "env.action_space.sample()"
   ]
  },
  {
   "cell_type": "code",
   "execution_count": 8,
   "id": "d2dbb779-7731-429d-a980-d591025b1324",
   "metadata": {},
   "outputs": [],
   "source": [
    "#env.reset()"
   ]
  },
  {
   "cell_type": "code",
   "execution_count": 9,
   "id": "763e511c-e50e-4542-a899-5bb96751f7b3",
   "metadata": {},
   "outputs": [],
   "source": [
    "#env.render"
   ]
  },
  {
   "cell_type": "code",
   "execution_count": 10,
   "id": "42e67606-34f9-418a-92e6-05b9a591502c",
   "metadata": {},
   "outputs": [],
   "source": [
    "#env.close"
   ]
  },
  {
   "cell_type": "code",
   "execution_count": 11,
   "id": "ab250b06-616c-4c01-b781-4aae27ae95ec",
   "metadata": {},
   "outputs": [
    {
     "name": "stderr",
     "output_type": "stream",
     "text": [
      "C:\\Users\\swast\\OneDrive\\Desktop\\Coding\\Mario Artificial Intelligence\\mario-ai\\venv\\lib\\site-packages\\gym\\utils\\passive_env_checker.py:195: UserWarning: \u001b[33mWARN: The result returned by `env.reset()` was not a tuple of the form `(obs, info)`, where `obs` is a observation and `info` is a dictionary containing additional information. Actual type: `<class 'numpy.ndarray'>`\u001b[0m\n",
      "  logger.warn(\n",
      "C:\\Users\\swast\\OneDrive\\Desktop\\Coding\\Mario Artificial Intelligence\\mario-ai\\venv\\lib\\site-packages\\gym\\utils\\passive_env_checker.py:272: UserWarning: \u001b[33mWARN: No render modes was declared in the environment (env.metadata['render_modes'] is None or not defined), you may have trouble when calling `.render()`.\u001b[0m\n",
      "  logger.warn(\n"
     ]
    }
   ],
   "source": [
    "done = True\n",
    "\n",
    "for step in range(10000): \n",
    "    \n",
    "    if done: \n",
    "       \n",
    "        env.reset()\n",
    "   \n",
    "    #state, reward, done, info = env.step(env.action_space.sample())\n",
    "    \n",
    "    env.render()\n",
    "\n",
    "env.close()"
   ]
  },
  {
   "cell_type": "code",
   "execution_count": null,
   "id": "0140202b-cbca-4ee7-9f0c-f5d61aac3ece",
   "metadata": {},
   "outputs": [],
   "source": []
  }
 ],
 "metadata": {
  "kernelspec": {
   "display_name": "Python 3 (ipykernel)",
   "language": "python",
   "name": "python3"
  },
  "language_info": {
   "codemirror_mode": {
    "name": "ipython",
    "version": 3
   },
   "file_extension": ".py",
   "mimetype": "text/x-python",
   "name": "python",
   "nbconvert_exporter": "python",
   "pygments_lexer": "ipython3",
   "version": "3.8.0"
  }
 },
 "nbformat": 4,
 "nbformat_minor": 5
}
